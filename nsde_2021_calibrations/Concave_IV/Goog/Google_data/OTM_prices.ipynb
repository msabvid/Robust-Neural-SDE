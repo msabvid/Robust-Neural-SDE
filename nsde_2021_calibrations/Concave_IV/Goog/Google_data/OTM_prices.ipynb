{
 "cells": [
  {
   "cell_type": "code",
   "execution_count": 2,
   "metadata": {},
   "outputs": [],
   "source": [
    "from matplotlib.backends.backend_pdf import PdfPages\n",
    "from mpl_toolkits.mplot3d import Axes3D  \n",
    "import matplotlib.pyplot as plt1\n",
    "import matplotlib.pyplot as plt2\n",
    "import matplotlib.pyplot as plt3\n",
    "import matplotlib.pyplot as plt4\n",
    "import matplotlib.pyplot as plt5\n",
    "import matplotlib.pyplot as plt6\n",
    "import matplotlib.pyplot as plt7\n",
    "from matplotlib import cm\n",
    "from matplotlib.ticker import LinearLocator, FormatStrFormatter\n",
    "from py_vollib.black_scholes.implied_volatility import implied_volatility \n",
    "from py_vollib.black_scholes import black_scholes as prc \n",
    "from py_vollib.black_scholes.greeks.numerical import delta as delta\n",
    "import numpy as np\n",
    "import torch\n",
    "\n",
    "import matplotlib.pyplot as plt\n",
    "import matplotlib.pyplot as plt_1\n",
    "%matplotlib inline\n",
    "import glob\n",
    "import os\n",
    "import pandas as pd\n",
    "\n",
    "\n",
    "os.chdir(r'C:\\Users\\s0837263\\Desktop\\Plots_Robust_SDEs\\write_up_plots_bimonthly\\Real_data_LV_LSV\\Google_data')\n",
    "\n"
   ]
  },
  {
   "cell_type": "code",
   "execution_count": 8,
   "metadata": {},
   "outputs": [
    {
     "name": "stdout",
     "output_type": "stream",
     "text": [
      "strikes [[515.  517.5 520.  522.5 525.  527.5 530.  532.5 535.  537.5 540.  542.5\n",
      "  545.  547.5 550. ]]\n",
      "target_prices [[0.49597577 0.64481381 0.84333788 1.09154195 1.41419625 1.91139468\n",
      "  2.53280959 3.27894951 4.22455229 4.42531118 3.27102743 2.31672458\n",
      "  1.61287834 1.08453516 0.68160652]]\n",
      "deltas [[-0.07273774 -0.09300986 -0.11900669 -0.15082318 -0.19046337 -0.24335783\n",
      "  -0.30455308 -0.3733681  -0.45034867  0.46900747  0.38790707  0.30821045\n",
      "   0.23677918  0.17495797  0.12191552]]\n"
     ]
    }
   ],
   "source": [
    "# Twt mat 1 market data\n",
    "maturities = [3/365]\n",
    "n1 = 1\n",
    "n2 = 15\n",
    "np.save('maturities.npy',maturities)\n",
    "target_prices = np.zeros((n1,n2))\n",
    "deltas = np.zeros((n1,n2))\n",
    "market_iv = np.zeros((n1,n2))\n",
    "market_iv[0,0] = 0.381332\n",
    "market_iv[0,1] = 0.37005\n",
    "market_iv[0,2] = 0.359312\n",
    "market_iv[0,3] = 0.347439\n",
    "market_iv[0,4] = 0.335648\n",
    "market_iv[0,5] = 0.330367\n",
    "market_iv[0,6] = 0.324162\n",
    "market_iv[0,7] = 0.315809\n",
    "market_iv[0,8] = 0.308993\n",
    "market_iv[0,9] = 0.312914\n",
    "market_iv[0,10] = 0.306124\n",
    "market_iv[0,11] = 0.298919\n",
    "market_iv[0,12] = 0.295688\n",
    "market_iv[0,13] = 0.29292\n",
    "market_iv[0,14] = 0.287836\n",
    "\n",
    "\n",
    "np.save('market_iv.npy',market_iv)\n",
    "strikes = np.zeros((n1,n2))\n",
    "strikes[0,:] = np.linspace(515,550,15)\n",
    "print('strikes',strikes)\n",
    "np.save('strikes.npy',strikes)\n",
    "rate = 0.02\n",
    "S0 = 536.33\n",
    "\n",
    "np.save('rates.npy',rate)\n",
    "np.save('mu.npy',rate) # q = 0\n",
    "\n",
    "\n",
    "for k in range(0,n1):\n",
    "    for j in range(0,n2):\n",
    "                if strikes[k,j]>S0:\n",
    "                    target_prices[k,j]=prc(flag='c',S=S0,K=strikes[k,j],t=maturities[k]-1/365,r=rate,sigma=market_iv[k,j])\n",
    "                    deltas[k,j]=delta(flag='c',S=S0,K=strikes[k,j],t=maturities[k]-1/365,r=rate,sigma=market_iv[k,j]) \n",
    "                else:\n",
    "                    target_prices[k,j]=prc(flag='p',S=S0,K=strikes[k,j],t=maturities[k]-1/365,r=rate,sigma=market_iv[k,j])\n",
    "                    deltas[k,j]=delta(flag='p',S=S0,K=strikes[k,j],t=maturities[k]-1/365,r=rate,sigma=market_iv[k,j]) \n",
    "            \n",
    "print('target_prices',target_prices) # calculated from market IV deltas \n",
    "np.save('target_prices.npy',target_prices)\n",
    "print('deltas',deltas) # to check if those are matched closely by the market deltas \n",
    "                   "
   ]
  },
  {
   "cell_type": "code",
   "execution_count": null,
   "metadata": {},
   "outputs": [],
   "source": []
  },
  {
   "cell_type": "code",
   "execution_count": null,
   "metadata": {},
   "outputs": [],
   "source": []
  }
 ],
 "metadata": {
  "kernelspec": {
   "display_name": "Python 3",
   "language": "python",
   "name": "python3"
  },
  "language_info": {
   "codemirror_mode": {
    "name": "ipython",
    "version": 3
   },
   "file_extension": ".py",
   "mimetype": "text/x-python",
   "name": "python",
   "nbconvert_exporter": "python",
   "pygments_lexer": "ipython3",
   "version": "3.8.5"
  }
 },
 "nbformat": 4,
 "nbformat_minor": 4
}

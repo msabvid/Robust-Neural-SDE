{
 "cells": [
  {
   "cell_type": "code",
   "execution_count": 3,
   "metadata": {},
   "outputs": [],
   "source": [
    "from matplotlib.backends.backend_pdf import PdfPages\n",
    "from mpl_toolkits.mplot3d import Axes3D  \n",
    "import matplotlib.pyplot as plt1\n",
    "import matplotlib.pyplot as plt2\n",
    "import matplotlib.pyplot as plt3\n",
    "import matplotlib.pyplot as plt4\n",
    "import matplotlib.pyplot as plt5\n",
    "import matplotlib.pyplot as plt6\n",
    "import matplotlib.pyplot as plt7\n",
    "from matplotlib import cm\n",
    "from matplotlib.ticker import LinearLocator, FormatStrFormatter\n",
    "from py_vollib.black_scholes.implied_volatility import implied_volatility \n",
    "from py_vollib.black_scholes import black_scholes as prc \n",
    "from py_vollib.black_scholes.greeks.numerical import delta as delta\n",
    "import numpy as np\n",
    "import torch\n",
    "\n",
    "import matplotlib.pyplot as plt\n",
    "import matplotlib.pyplot as plt_1\n",
    "%matplotlib inline\n",
    "import glob\n",
    "import os\n",
    "import pandas as pd\n",
    "\n",
    "\n",
    "os.chdir(r'C:\\Users\\s0837263\\Desktop\\Plots_Robust_SDEs\\write_up_plots_bimonthly\\Real_data_LV_LSV\\TWT_data')\n",
    "\n"
   ]
  },
  {
   "cell_type": "code",
   "execution_count": 5,
   "metadata": {},
   "outputs": [
    {
     "name": "stdout",
     "output_type": "stream",
     "text": [
      "strikes [[34.5 35.  35.5 36.  36.5 37.  37.5 38.  38.5 39.  39.5 40.  40.5 41.\n",
      "  41.5 42.  42.5 43.  43.5 44. ]]\n",
      "target_prices [[0.60910376 0.74407505 0.89887371 1.06871472 1.26345984 1.47842829\n",
      "  1.69820993 1.94307528 2.1977636  2.12170743 1.89163077 1.6815236\n",
      "  1.46639096 1.2911758  1.12619282 0.96106372 0.83101989 0.72083404\n",
      "  0.60574521 0.51570646]]\n",
      "deltas [[-0.19147434 -0.22207374 -0.25449363 -0.28791315 -0.32274249 -0.35812469\n",
      "  -0.39332894 -0.42885496 -0.46422968  0.50209661  0.46755783  0.43335195\n",
      "   0.39810861  0.36499173  0.33233441  0.29887129  0.26898336  0.24161846\n",
      "   0.21306368  0.18837638]]\n"
     ]
    }
   ],
   "source": [
    "# Twt mat 1 market data\n",
    "maturities = [3/365]\n",
    "n1 = 1\n",
    "n2 = 20\n",
    "np.save('maturities.npy',maturities)\n",
    "target_prices = np.zeros((n1,n2))\n",
    "deltas = np.zeros((n1,n2))\n",
    "market_iv = np.zeros((n1,n2))\n",
    "market_iv[0,0] = 1.887547\n",
    "market_iv[0,1] = 1.900494\n",
    "market_iv[0,2] = 1.915006\n",
    "market_iv[0,3] = 1.925372\n",
    "market_iv[0,4] = 1.941581\n",
    "market_iv[0,5] = 1.958428\n",
    "market_iv[0,6] = 1.962028\n",
    "market_iv[0,7] = 1.971632\n",
    "market_iv[0,8] = 1.97376\n",
    "market_iv[0,9] = 2.026128\n",
    "market_iv[0,10] = 2.01096\n",
    "market_iv[0,11] = 1.998659\n",
    "market_iv[0,12] = 1.966912\n",
    "market_iv[0,13] = 1.956372\n",
    "market_iv[0,14] = 1.940701\n",
    "market_iv[0,15] = 1.909405\n",
    "market_iv[0,16] = 1.898024\n",
    "market_iv[0,17] = 1.893584\n",
    "market_iv[0,18] = 1.868772\n",
    "market_iv[0,19] = 1.85882\n",
    "np.save('market_iv.npy',market_iv)\n",
    "strikes = np.zeros((n1,n2))\n",
    "strikes[0,:] = np.linspace(34.5,44,20)\n",
    "print('strikes',strikes)\n",
    "np.save('strikes.npy',strikes)\n",
    "rate = 0.02\n",
    "S0 = 38.59\n",
    "np.save('rates.npy',rate)\n",
    "np.save('mu.npy',rate) # q = 0\n",
    "\n",
    "\n",
    "for k in range(0,n1):\n",
    "    for j in range(0,n2):\n",
    "                if strikes[k,j]>S0:\n",
    "                    target_prices[k,j]=prc(flag='c',S=S0,K=strikes[k,j],t=maturities[k]-1/365,r=rate,sigma=market_iv[k,j])\n",
    "                    deltas[k,j]=delta(flag='c',S=S0,K=strikes[k,j],t=maturities[k]-1/365,r=rate,sigma=market_iv[k,j]) \n",
    "                else:\n",
    "                    target_prices[k,j]=prc(flag='p',S=S0,K=strikes[k,j],t=maturities[k]-1/365,r=rate,sigma=market_iv[k,j])\n",
    "                    deltas[k,j]=delta(flag='p',S=S0,K=strikes[k,j],t=maturities[k]-1/365,r=rate,sigma=market_iv[k,j]) \n",
    "            \n",
    "print('target_prices',target_prices) # calculated from market IV deltas \n",
    "np.save('target_prices.npy',target_prices)\n",
    "print('deltas',deltas) # to check if those are matched closely by the market deltas \n",
    "                   "
   ]
  },
  {
   "cell_type": "code",
   "execution_count": null,
   "metadata": {},
   "outputs": [],
   "source": []
  },
  {
   "cell_type": "code",
   "execution_count": null,
   "metadata": {},
   "outputs": [],
   "source": []
  }
 ],
 "metadata": {
  "kernelspec": {
   "display_name": "Python 3",
   "language": "python",
   "name": "python3"
  },
  "language_info": {
   "codemirror_mode": {
    "name": "ipython",
    "version": 3
   },
   "file_extension": ".py",
   "mimetype": "text/x-python",
   "name": "python",
   "nbconvert_exporter": "python",
   "pygments_lexer": "ipython3",
   "version": "3.8.5"
  }
 },
 "nbformat": 4,
 "nbformat_minor": 4
}
